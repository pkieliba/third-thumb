{
 "cells": [
  {
   "cell_type": "code",
   "execution_count": 4,
   "metadata": {},
   "outputs": [],
   "source": [
    "# Load R libraries\n",
    "library(\"lme4\")\n",
    "library(\"car\")\n",
    "library(\"stargazer\")\n",
    "library(\"afex\")\n",
    "library(\"R.matlab\")\n",
    "library(\"emmeans\")\n",
    "library(optimx)"
   ]
  },
  {
   "cell_type": "code",
   "execution_count": 2,
   "metadata": {},
   "outputs": [],
   "source": [
    "path <- '/Users/paulina/Desktop/Studies/Cyberglove/'\n",
    "aug <- c('SF5', 'SF6', 'SF7', 'SF8', 'SF11', 'SF13', 'SF14', 'SF15', 'SF16', 'SF17', 'SF19', 'SF21', 'SF22', 'SF23', 'SF24')\n",
    "ctr <- c('CF1', 'CF2', 'CF4', 'CF6', 'CF7', 'CF8', 'CF9', 'CF10', 'CF11', 'CF12')"
   ]
  },
  {
   "cell_type": "code",
   "execution_count": 3,
   "metadata": {},
   "outputs": [],
   "source": [
    "allData = data.frame(\"subj\"=c(), \"R\"=c(), \"pairCat\"=c(), \"day\"=c())\n",
    "for (s in c(aug, ctr)) {\n",
    "    temp <- readMat(file.path(path, s, '/Matrices-PIJ.mat'))\n",
    "    df <- data.frame(\"subj\"=rep(s, 20), \"R\"=c(temp$R1[upper.tri(temp$R1)], temp$R5[upper.tri(temp$R5)]), \"pairCat\"=as.character(c(c(1:10),c(1:10))), \"day\"=c(rep('1',10),rep('5',10)), \"group\"=rep(substr(s,1,1),20))\n",
    "    allData = rbind(allData, df)\n",
    "}\n",
    "\n",
    "allData$R2 = allData$R**2"
   ]
  },
  {
   "cell_type": "code",
   "execution_count": 5,
   "metadata": {},
   "outputs": [
    {
     "name": "stderr",
     "output_type": "stream",
     "text": [
      "Contrasts set to contr.sum for the following variables: day, pairCat, group, subj\n"
     ]
    },
    {
     "name": "stdout",
     "output_type": "stream",
     "text": [
      "Fitting one lmer() model. [DONE]\n",
      "Calculating p-values. [DONE]\n"
     ]
    },
    {
     "data": {
      "text/plain": [
       "Mixed Model Anova Table (Type 3 tests, S-method)\n",
       "\n",
       "Model: log(R2) ~ as.character(day) * pairCat * group + (as.character(day) | \n",
       "Model:     subj)\n",
       "Data: allData\n",
       "                           Effect        df         F p.value\n",
       "1               as.character(day)  1, 23.00      0.70     .41\n",
       "2                         pairCat 9, 414.00 96.20 ***  <.0001\n",
       "3                           group  1, 23.00    6.98 *     .01\n",
       "4       as.character(day):pairCat 9, 414.00      1.01     .43\n",
       "5         as.character(day):group  1, 23.00      0.05     .82\n",
       "6                   pairCat:group 9, 414.00   2.66 **    .005\n",
       "7 as.character(day):pairCat:group 9, 414.00      0.74     .67\n",
       "---\n",
       "Signif. codes:  0 ‘***’ 0.001 ‘**’ 0.01 ‘*’ 0.05 ‘+’ 0.1 ‘ ’ 1"
      ]
     },
     "metadata": {},
     "output_type": "display_data"
    }
   ],
   "source": [
    "augModel <- mixed(log(R2) ~ as.character(day)*pairCat*group + (as.character(day)|subj), allData, method=\"S\", control=lmerControl(\n",
    "                           optimizer ='optimx', optCtrl=list(method='L-BFGS-B')), REML=TRUE)\n",
    "augModel"
   ]
  },
  {
   "cell_type": "code",
   "execution_count": null,
   "metadata": {},
   "outputs": [],
   "source": []
  }
 ],
 "metadata": {
  "kernelspec": {
   "display_name": "R",
   "language": "R",
   "name": "ir"
  },
  "language_info": {
   "codemirror_mode": "r",
   "file_extension": ".r",
   "mimetype": "text/x-r-source",
   "name": "R",
   "pygments_lexer": "r",
   "version": "3.5.2"
  },
  "widgets": {
   "application/vnd.jupyter.widget-state+json": {
    "state": {},
    "version_major": 2,
    "version_minor": 0
   }
  }
 },
 "nbformat": 4,
 "nbformat_minor": 4
}
