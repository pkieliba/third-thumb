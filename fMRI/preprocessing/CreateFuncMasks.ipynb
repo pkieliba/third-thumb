{
 "cells": [
  {
   "cell_type": "code",
   "execution_count": 2,
   "metadata": {},
   "outputs": [],
   "source": [
    "import nibabel as nib \n",
    "import numpy as np \n",
    "from matplotlib import pyplot as plt \n",
    "import pandas as pd\n",
    "import numpy as np\n",
    "import seaborn as sns\n",
    "%matplotlib inline "
   ]
  },
  {
   "cell_type": "markdown",
   "metadata": {},
   "source": [
    "## Functional Masks (ROIs)\n",
    "\n",
    "For our univariate analyses, we defined functional ROIs based on the sensorimotor representations of the left/right \n",
    "hand and feet for each participant. We used condition-specific contrasts from the motor localiser scans. The relevant (right/left hand vs lips, right/left foot vs lips) low-level contrasts were first averaged across both (pre and post) scans. \n",
    "\n",
    "To create left/right hand ROIs, for each participant, the 200 most active voxels were selected from the averaged left/right hand vs lips contrast. For the individual feet ROIs, a similar procedure was employed, selecting the 100 most active voxels from the averaged left/right foot vs lips contrast. Voxel selection was restricted to the primary somatosensory (S1) and motor (M1) cortices as derived from the maximum probabilistic maps (thresholded at 25%) of the Juelich Histological Atlas. Voxels from both feet ROIs were combined into a single region of interest used in the subsequent analyses."
   ]
  },
  {
   "cell_type": "code",
   "execution_count": 3,
   "metadata": {},
   "outputs": [],
   "source": [
    "augmented = ['SF1', 'SF2', 'SF3', 'SF4', 'SF5', 'SF6', 'SF7', 'SF8', 'SF11', 'SF12', 'SF13', 'SF14',\n",
    "          'SF15', 'SF16', 'SF17', 'SF19', 'SF21', 'SF22', 'SF23', 'SF24']\n",
    "controls = ['CF1', 'CF2', 'CF4', 'CF5', 'CF6', 'CF7', 'CF8', 'CF9', 'CF10', 'CF11', 'CF12']\n",
    "sessions = ['pre', 'post']"
   ]
  },
  {
   "cell_type": "markdown",
   "metadata": {},
   "source": [
    "### 1. Average pre- and post- z-stats\n",
    "\n",
    "* LH: zstat6 (left hand vs lips)\n",
    "* RH: zstat7 (right hand vs lips)\n",
    "* LF: zstat8 (left foot vs lips)\n",
    "* RF: zstat9 (right foot vs lips)"
   ]
  },
  {
   "cell_type": "code",
   "execution_count": 3,
   "metadata": {},
   "outputs": [],
   "source": [
    "for subj in augmented + controls:\n",
    "        !fslmaths /vols/Data/soma/6Finger/$subj/pre/model/bodyloc.feat/stats/zstat6.nii.gz -add /vols/Data/soma/6Finger/$subj/post/model/bodyloc.feat/stats/zstat6.nii.gz -div 2 /vols/Data/soma/6Finger/$subj/coreg/zstat6_avg.nii.gz\n",
    "        !fslmaths /vols/Data/soma/6Finger/$subj/pre/model/bodyloc.feat/stats/zstat7.nii.gz -add /vols/Data/soma/6Finger/$subj/post/model/bodyloc.feat/stats/zstat7.nii.gz -div 2 /vols/Data/soma/6Finger/$subj/coreg/zstat7_avg.nii.gz\n",
    "        !fslmaths /vols/Data/soma/6Finger/$subj/pre/model/bodyloc.feat/stats/zstat8.nii.gz -add /vols/Data/soma/6Finger/$subj/post/model/bodyloc.feat/stats/zstat8.nii.gz -div 2 /vols/Data/soma/6Finger/$subj/coreg/zstat8_avg.nii.gz\n",
    "        !fslmaths /vols/Data/soma/6Finger/$subj/pre/model/bodyloc.feat/stats/zstat9.nii.gz -add /vols/Data/soma/6Finger/$subj/post/model/bodyloc.feat/stats/zstat9.nii.gz -div 2 /vols/Data/soma/6Finger/$subj/coreg/zstat9_avg.nii.gz"
   ]
  },
  {
   "cell_type": "markdown",
   "metadata": {},
   "source": [
    "### 2. Register the Juelich_M1S1 mask to func space (bodyloc)"
   ]
  },
  {
   "cell_type": "code",
   "execution_count": 4,
   "metadata": {},
   "outputs": [
    {
     "name": "stdout",
     "output_type": "stream",
     "text": [
      "63947\n",
      "63948\n",
      "63949\n",
      "63950\n",
      "63951\n",
      "63952\n",
      "63953\n",
      "63954\n",
      "63955\n",
      "63956\n",
      "63957\n"
     ]
    }
   ],
   "source": [
    "for subj in augmented + controls:\n",
    "    !fsl_sub -q veryshort.q invwarp -w /vols/Data/soma/6Finger/$subj/post/model/bodyloc.feat/reg/highres2standard_warp \\\n",
    "    -o /vols/Data/soma/6Finger/$subj/post/model/bodyloc.feat/reg/standard2highres_warp -r /vols/Data/soma/6Finger/$subj/post/model/bodyloc.feat/reg/highres"
   ]
  },
  {
   "cell_type": "code",
   "execution_count": 7,
   "metadata": {},
   "outputs": [
    {
     "name": "stdout",
     "output_type": "stream",
     "text": [
      "64234\n",
      "64235\n",
      "64236\n",
      "64237\n",
      "64238\n",
      "64239\n",
      "64240\n",
      "64241\n",
      "64242\n",
      "64243\n",
      "64244\n"
     ]
    }
   ],
   "source": [
    "for subj in augmented + controls:\n",
    "    !fsl_sub -q veryshort.q applywarp -i /vols/Data/soma/6Finger/masks/vol/Juelich_M1S1_dil.nii.gz \\\n",
    "    -r /vols/Data/soma/6Finger/$subj/post/model/bodyloc.feat/example_func \\\n",
    "    -o /vols/Data/soma/6Finger/$subj/masks/Juelich_M1S1.nii.gz -w /vols/Data/soma/6Finger/$subj/post/model/bodyloc.feat/reg/standard2highres_warp.nii.gz \\\n",
    "    --postmat=/vols/Data/soma/6Finger/$subj/post/model/bodyloc.feat/reg/highres2example_func.mat"
   ]
  },
  {
   "cell_type": "code",
   "execution_count": 8,
   "metadata": {},
   "outputs": [],
   "source": [
    "for subj in augmented + controls:\n",
    "    !fslmaths /vols/Data/soma/6Finger/$subj/masks/Juelich_M1S1.nii.gz -thr 0.2 -bin /vols/Data/soma/6Finger/$subj/masks/Juelich_M1S1.nii.gz    "
   ]
  },
  {
   "cell_type": "markdown",
   "metadata": {},
   "source": [
    "### 2. Create masks based on the average z-stats\n",
    "\n",
    "Mask the zstat_avg images with the Juelich_M1S1 mask, then choose 200 strongest voxels for the hand ROIs and 100 strongest voxels from each foot for the feet ROI"
   ]
  },
  {
   "cell_type": "code",
   "execution_count": 9,
   "metadata": {},
   "outputs": [
    {
     "name": "stderr",
     "output_type": "stream",
     "text": [
      "<ipython-input-9-482f02b4c2be>:20: DeprecationWarning: get_data() is deprecated in favor of get_fdata(), which has a more predictable return type. To obtain get_data() behavior going forward, use numpy.asanyarray(img.dataobj).\n",
      "\n",
      "* deprecated from version: 3.0\n",
      "* Will raise <class 'nibabel.deprecator.ExpiredDeprecationError'> as of version: 5.0\n",
      "  zstat_LH = nii_LH.get_data()\n",
      "<ipython-input-9-482f02b4c2be>:21: DeprecationWarning: get_data() is deprecated in favor of get_fdata(), which has a more predictable return type. To obtain get_data() behavior going forward, use numpy.asanyarray(img.dataobj).\n",
      "\n",
      "* deprecated from version: 3.0\n",
      "* Will raise <class 'nibabel.deprecator.ExpiredDeprecationError'> as of version: 5.0\n",
      "  zstat_RH = nii_RH.get_data()\n",
      "<ipython-input-9-482f02b4c2be>:22: DeprecationWarning: get_data() is deprecated in favor of get_fdata(), which has a more predictable return type. To obtain get_data() behavior going forward, use numpy.asanyarray(img.dataobj).\n",
      "\n",
      "* deprecated from version: 3.0\n",
      "* Will raise <class 'nibabel.deprecator.ExpiredDeprecationError'> as of version: 5.0\n",
      "  zstat_LF = nii_LF.get_data()\n",
      "<ipython-input-9-482f02b4c2be>:23: DeprecationWarning: get_data() is deprecated in favor of get_fdata(), which has a more predictable return type. To obtain get_data() behavior going forward, use numpy.asanyarray(img.dataobj).\n",
      "\n",
      "* deprecated from version: 3.0\n",
      "* Will raise <class 'nibabel.deprecator.ExpiredDeprecationError'> as of version: 5.0\n",
      "  zstat_RF = nii_RF.get_data()\n"
     ]
    },
    {
     "name": "stdout",
     "output_type": "stream",
     "text": [
      "CF1 done\n",
      "CF2 done\n",
      "CF4 done\n",
      "CF5 done\n",
      "CF6 done\n",
      "CF7 done\n",
      "CF8 done\n",
      "CF9 done\n",
      "CF10 done\n",
      "CF11 done\n",
      "CF12 done\n"
     ]
    }
   ],
   "source": [
    "for subj in augmented + controls: \n",
    "    \n",
    "    if subj=='SF12':\n",
    "        !fslmaths /vols/Data/soma/6Finger/$subj/post/model/bodyloc.feat/stats/zstat6.nii.gz -mas /vols/Data/soma/6Finger/$subj/masks/Juelich_M1S1.nii.gz /vols/Data/soma/6Finger/$subj/coreg/zstat6_avg_masked.nii.gz \n",
    "        !fslmaths /vols/Data/soma/6Finger/$subj/post/model/bodyloc.feat/stats/zstat7.nii.gz -mas /vols/Data/soma/6Finger/$subj/masks/Juelich_M1S1.nii.gz /vols/Data/soma/6Finger/$subj/coreg/zstat7_avg_masked.nii.gz \n",
    "        !fslmaths /vols/Data/soma/6Finger/$subj/post/model/bodyloc.feat/stats/zstat8.nii.gz -mas /vols/Data/soma/6Finger/$subj/masks/Juelich_M1S1.nii.gz /vols/Data/soma/6Finger/$subj/coreg/zstat8_avg_masked.nii.gz \n",
    "        !fslmaths /vols/Data/soma/6Finger/$subj/post/model/bodyloc.feat/stats/zstat9.nii.gz -mas /vols/Data/soma/6Finger/$subj/masks/Juelich_M1S1.nii.gz /vols/Data/soma/6Finger/$subj/coreg/zstat9_avg_masked.nii.gz         \n",
    "    else:\n",
    "        !fslmaths /vols/Data/soma/6Finger/$subj/coreg/zstat6_avg.nii.gz -mas /vols/Data/soma/6Finger/$subj/masks/Juelich_M1S1.nii.gz /vols/Data/soma/6Finger/$subj/coreg/zstat6_avg_masked.nii.gz \n",
    "        !fslmaths /vols/Data/soma/6Finger/$subj/coreg/zstat7_avg.nii.gz -mas /vols/Data/soma/6Finger/$subj/masks/Juelich_M1S1.nii.gz /vols/Data/soma/6Finger/$subj/coreg/zstat7_avg_masked.nii.gz \n",
    "        !fslmaths /vols/Data/soma/6Finger/$subj/coreg/zstat8_avg.nii.gz -mas /vols/Data/soma/6Finger/$subj/masks/Juelich_M1S1.nii.gz /vols/Data/soma/6Finger/$subj/coreg/zstat8_avg_masked.nii.gz \n",
    "        !fslmaths /vols/Data/soma/6Finger/$subj/coreg/zstat9_avg.nii.gz -mas /vols/Data/soma/6Finger/$subj/masks/Juelich_M1S1.nii.gz /vols/Data/soma/6Finger/$subj/coreg/zstat9_avg_masked.nii.gz \n",
    "\n",
    "    nii_LH=nib.load('../{}/coreg/zstat6_avg_masked.nii.gz'.format(subj))\n",
    "    nii_RH=nib.load('../{}/coreg/zstat7_avg_masked.nii.gz'.format(subj))\n",
    "    nii_LF=nib.load('../{}/coreg/zstat8_avg_masked.nii.gz'.format(subj))\n",
    "    nii_RF=nib.load('../{}/coreg/zstat9_avg_masked.nii.gz'.format(subj))\n",
    "    \n",
    "    zstat_LH = nii_LH.get_data()\n",
    "    zstat_RH = nii_RH.get_data()\n",
    "    zstat_LF = nii_LF.get_data()\n",
    "    zstat_RF = nii_RF.get_data()\n",
    "    \n",
    "    zstat_list_LH = zstat_LH[zstat_LH>0]\n",
    "    zstat_list_LH[::-1].sort()\n",
    "    zstat_list_RH = zstat_RH[zstat_RH>0]\n",
    "    zstat_list_RH[::-1].sort()\n",
    "    zstat_list_LF = zstat_LF[zstat_LF>0]\n",
    "    zstat_list_LF[::-1].sort()\n",
    "    zstat_list_RF = zstat_RF[zstat_RF>0]\n",
    "    zstat_list_RF[::-1].sort()\n",
    "\n",
    "    thr_LH = zstat_list_LH[200]\n",
    "    thr_RH = zstat_list_RH[200]\n",
    "    thr_LF = zstat_list_LF[100]\n",
    "    thr_RF = zstat_list_RF[100]\n",
    "        \n",
    "    mask_LH = zstat_LH > thr_LH\n",
    "    mask_RH = zstat_RH > thr_RH\n",
    "    mask_LF = zstat_LF > thr_LF\n",
    "    mask_RF = zstat_RF > thr_RF\n",
    "\n",
    "    nib.save(nib.Nifti1Image(mask_LH,nii_LH.affine,header=nii_LH.header), '/vols/Data/soma/6Finger/' + subj + '/masks/LH200mask.nii.gz')\n",
    "    nib.save(nib.Nifti1Image(mask_RH,nii_RH.affine,header=nii_RH.header), '/vols/Data/soma/6Finger/' + subj + '/masks/RH200mask.nii.gz')\n",
    "    nib.save(nib.Nifti1Image(mask_LF,nii_LF.affine,header=nii_LF.header), '/vols/Data/soma/6Finger/' + subj + '/masks/LF100mask.nii.gz')\n",
    "    nib.save(nib.Nifti1Image(mask_RF,nii_RF.affine,header=nii_RF.header), '/vols/Data/soma/6Finger/' + subj + '/masks/RF100mask.nii.gz')\n",
    "\n",
    "    !fslmaths /vols/Data/soma/6Finger/$subj/masks/LH200mask.nii.gz -bin /vols/Data/soma/6Finger/$subj/masks/LH200mask.nii.gz\n",
    "    !fslmaths /vols/Data/soma/6Finger/$subj/masks/RH200mask.nii.gz -bin /vols/Data/soma/6Finger/$subj/masks/RH200mask.nii.gz\n",
    "    !fslmaths /vols/Data/soma/6Finger/$subj/masks/LF100mask.nii.gz -bin /vols/Data/soma/6Finger/$subj/masks/LF100mask.nii.gz\n",
    "    !fslmaths /vols/Data/soma/6Finger/$subj/masks/RF100mask.nii.gz -bin /vols/Data/soma/6Finger/$subj/masks/RF100mask.nii.gz\n",
    "     \n",
    "    !fslmaths /vols/Data/soma/6Finger/$subj/masks/LF100mask.nii.gz -add /vols/Data/soma/6Finger/$subj/masks/RF100mask.nii.gz -bin /vols/Data/soma/6Finger/$subj/masks/BF200mask.nii.gz\n",
    "    \n",
    "    print(subj + ' done')"
   ]
  },
  {
   "cell_type": "code",
   "execution_count": 10,
   "metadata": {},
   "outputs": [],
   "source": [
    "for subj in augmented + controls:\n",
    "    \n",
    "    !flirt -in /vols/Data/soma/6Finger/$subj/masks/LH200mask.nii.gz -ref /vols/Data/soma/6Finger/$subj/coreg/anatMidspace.nii.gz -applyxfm -init /vols/Data/soma/6Finger/$subj/post/model/bodyloc.feat/reg/example_func2highres.mat -out /vols/Data/soma/6Finger/$subj/masks/LH200mask_highres.nii.gz\n",
    "    !flirt -in /vols/Data/soma/6Finger/$subj/masks/RH200mask.nii.gz -ref /vols/Data/soma/6Finger/$subj/coreg/anatMidspace.nii.gz -applyxfm -init /vols/Data/soma/6Finger/$subj/post/model/bodyloc.feat/reg/example_func2highres.mat -out /vols/Data/soma/6Finger/$subj/masks/RH200mask_highres.nii.gz\n",
    "   \n",
    "    !fslmaths /vols/Data/soma/6Finger/$subj/masks/LH200mask_highres.nii.gz -bin /vols/Data/soma/6Finger/$subj/masks/LH200mask_highres.nii.gz\n",
    "    !fslmaths /vols/Data/soma/6Finger/$subj/masks/RH200mask_highres.nii.gz -bin /vols/Data/soma/6Finger/$subj/masks/RH200mask_highres.nii.gz\n",
    "    "
   ]
  },
  {
   "cell_type": "markdown",
   "metadata": {},
   "source": [
    "### 3. Register the masks to restMidspace"
   ]
  },
  {
   "cell_type": "code",
   "execution_count": 43,
   "metadata": {},
   "outputs": [],
   "source": [
    "for subj in augmented + controls:\n",
    "    \n",
    "    if subj=='SF12':\n",
    "        ! flirt -in /vols/Data/soma/6Finger/$subj/post/model/bodyloc.feat/example_func.nii.gz -ref /vols/Data/soma/6Finger/$subj/coreg/restMidspace.nii.gz -omat /vols/Data/soma/6Finger/$subj/coreg/bodylocMidspace2restMidspace.mat\n",
    "    else:\n",
    "        ! flirt -in /vols/Data/soma/6Finger/$subj/coreg/bodylocMidspace.nii.gz -ref /vols/Data/soma/6Finger/$subj/coreg/restMidspace.nii.gz -omat /vols/Data/soma/6Finger/$subj/coreg/bodylocMidspace2restMidspace.mat\n",
    "    \n",
    "    !flirt -in /vols/Data/soma/6Finger/$subj/masks/LH200mask.nii.gz -ref /vols/Data/soma/6Finger/$subj/coreg/restMidspace.nii.gz -applyxfm -init /vols/Data/soma/6Finger/$subj/coreg/bodylocMidspace2restMidspace.mat -out /vols/Data/soma/6Finger/$subj/masks/LH200mask_rest.nii.gz\n",
    "    !flirt -in /vols/Data/soma/6Finger/$subj/masks/RH200mask.nii.gz -ref /vols/Data/soma/6Finger/$subj/coreg/restMidspace.nii.gz -applyxfm -init /vols/Data/soma/6Finger/$subj/coreg/bodylocMidspace2restMidspace.mat -out /vols/Data/soma/6Finger/$subj/masks/RH200mask_rest.nii.gz\n",
    "    !flirt -in /vols/Data/soma/6Finger/$subj/masks/LF100mask.nii.gz -ref /vols/Data/soma/6Finger/$subj/coreg/restMidspace.nii.gz -applyxfm -init /vols/Data/soma/6Finger/$subj/coreg/bodylocMidspace2restMidspace.mat -out /vols/Data/soma/6Finger/$subj/masks/LF100mask_rest.nii.gz\n",
    "    !flirt -in /vols/Data/soma/6Finger/$subj/masks/RF100mask.nii.gz -ref /vols/Data/soma/6Finger/$subj/coreg/restMidspace.nii.gz -applyxfm -init /vols/Data/soma/6Finger/$subj/coreg/bodylocMidspace2restMidspace.mat -out /vols/Data/soma/6Finger/$subj/masks/RF100mask_rest.nii.gz\n",
    "    !flirt -in /vols/Data/soma/6Finger/$subj/masks/BF200mask.nii.gz -ref /vols/Data/soma/6Finger/$subj/coreg/restMidspace.nii.gz -applyxfm -init /vols/Data/soma/6Finger/$subj/coreg/bodylocMidspace2restMidspace.mat -out /vols/Data/soma/6Finger/$subj/masks/BF200mask_rest.nii.gz\n",
    "   \n",
    "    !fslmaths /vols/Data/soma/6Finger/$subj/masks/LH200mask_rest.nii.gz -bin /vols/Data/soma/6Finger/$subj/masks/LH200mask_rest.nii.gz\n",
    "    !fslmaths /vols/Data/soma/6Finger/$subj/masks/RH200mask_rest.nii.gz -bin /vols/Data/soma/6Finger/$subj/masks/RH200mask_rest.nii.gz\n",
    "    !fslmaths /vols/Data/soma/6Finger/$subj/masks/LF100mask_rest.nii.gz -bin /vols/Data/soma/6Finger/$subj/masks/LF100mask_rest.nii.gz\n",
    "    !fslmaths /vols/Data/soma/6Finger/$subj/masks/RF100mask_rest.nii.gz -bin /vols/Data/soma/6Finger/$subj/masks/RF100mask_rest.nii.gz\n",
    "    !fslmaths /vols/Data/soma/6Finger/$subj/masks/BF200mask_rest.nii.gz -bin /vols/Data/soma/6Finger/$subj/masks/BF200mask_rest.nii.gz\n"
   ]
  },
  {
   "cell_type": "markdown",
   "metadata": {},
   "source": [
    "### 4. Extract mean timecourses"
   ]
  },
  {
   "cell_type": "code",
   "execution_count": 45,
   "metadata": {},
   "outputs": [
    {
     "name": "stdout",
     "output_type": "stream",
     "text": [
      "SF1 done\n",
      "SF2 done\n",
      "SF3 done\n",
      "SF4 done\n",
      "SF5 done\n",
      "SF6 done\n",
      "SF7 done\n",
      "SF8 done\n",
      "SF11 done\n",
      "SF12 done\n",
      "SF13 done\n",
      "SF14 done\n",
      "SF15 done\n",
      "SF16 done\n",
      "SF17 done\n",
      "SF19 done\n",
      "SF21 done\n",
      "SF22 done\n",
      "SF23 done\n",
      "SF24 done\n"
     ]
    }
   ],
   "source": [
    "for subj in augmented + controls:\n",
    "    for ses in sessions:\n",
    "        ! fslmeants -i /vols/Data/soma/6Finger/$subj/$ses/model/rest.feat/stats/res4d.nii.gz -m /vols/Data/soma/6Finger/$subj/masks/LH200mask_rest.nii.gz -o /vols/Data/soma/6Finger/$subj/$ses/masks/LH_seed.txt\n",
    "        ! fslmeants -i /vols/Data/soma/6Finger/$subj/$ses/model/rest.feat/stats/res4d.nii.gz -m /vols/Data/soma/6Finger/$subj/masks/RH200mask_rest.nii.gz -o /vols/Data/soma/6Finger/$subj/$ses/masks/RH_seed.txt\n",
    "        ! fslmeants -i /vols/Data/soma/6Finger/$subj/$ses/model/rest.feat/stats/res4d.nii.gz -m /vols/Data/soma/6Finger/$subj/masks/LF100mask_rest.nii.gz -o /vols/Data/soma/6Finger/$subj/$ses/masks/LF_seed.txt\n",
    "        ! fslmeants -i /vols/Data/soma/6Finger/$subj/$ses/model/rest.feat/stats/res4d.nii.gz -m /vols/Data/soma/6Finger/$subj/masks/RF100mask_rest.nii.gz -o /vols/Data/soma/6Finger/$subj/$ses/masks/RF_seed.txt\n",
    "        ! fslmeants -i /vols/Data/soma/6Finger/$subj/$ses/model/rest.feat/stats/res4d.nii.gz -m /vols/Data/soma/6Finger/$subj/masks/BF200mask_rest.nii.gz -o /vols/Data/soma/6Finger/$subj/$ses/masks/BF_seed.txt\n",
    "    print(subj + ' done')"
   ]
  }
 ],
 "metadata": {
  "kernelspec": {
   "display_name": "Python 3",
   "language": "python",
   "name": "python3"
  },
  "language_info": {
   "codemirror_mode": {
    "name": "ipython",
    "version": 3
   },
   "file_extension": ".py",
   "mimetype": "text/x-python",
   "name": "python",
   "nbconvert_exporter": "python",
   "pygments_lexer": "ipython3",
   "version": "3.9.6"
  },
  "widgets": {
   "application/vnd.jupyter.widget-state+json": {
    "state": {},
    "version_major": 2,
    "version_minor": 0
   }
  }
 },
 "nbformat": 4,
 "nbformat_minor": 4
}
