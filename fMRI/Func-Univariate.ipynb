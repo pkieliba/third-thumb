{
 "cells": [
  {
   "cell_type": "code",
   "execution_count": 12,
   "metadata": {},
   "outputs": [],
   "source": [
    "import nibabel as nib \n",
    "import numpy as np \n",
    "from matplotlib import pyplot as plt \n",
    "import pandas as pd\n",
    "import numpy as np\n",
    "import seaborn as sns\n",
    "from scipy import stats\n",
    "%matplotlib inline \n",
    "%load_ext rpy2.ipython"
   ]
  },
  {
   "cell_type": "code",
   "execution_count": 2,
   "metadata": {},
   "outputs": [],
   "source": [
    "def plotUniStats(data, mask):\n",
    "    \"\"\"Plot bar graph with mean z-stat extracted from under given mask, mark individual observations with dots\"\"\"\n",
    "    \n",
    "    sns.set_style(\"white\")\n",
    "    sns.set_context(\"paper\", font_scale = 2)\n",
    "\n",
    "    g = sns.catplot(kind='bar', data=data[data['MASK']==mask], \n",
    "                    x='BODY_PART', y='Z-STAT', \n",
    "                    hue='SESS', ci=68, capsize=0.2, \n",
    "                edgecolor=\".2\", errcolor=\".2\", height=7, color='grey', order=list(data['BODY_PART'].unique()))\n",
    "\n",
    "    backgroundartists = []\n",
    "    ax1 = g.axes.flat[0]\n",
    "    for l in ax1.lines + ax1.collections:\n",
    "        l.set_zorder(1)\n",
    "        backgroundartists.append(l)\n",
    "\n",
    "    g.map(sns.stripplot, 'BODY_PART', 'Z-STAT', 'SESS', dodge=\"True\", \n",
    "          size=5, alpha=0.7,\n",
    "          order=list(data['BODY_PART'].unique()), hue_order=['pre', 'post'])\n",
    "\n",
    "    for l in ax1.lines + ax1.collections:\n",
    "        if l not in backgroundartists:\n",
    "            l.set_zorder(5)\n",
    "\n",
    "    plt.suptitle(mask)\n",
    "    sns.despine(left=True, trim=True)\n",
    "    g._legend.remove()\n",
    "    plt.legend(bbox_to_anchor=(1.05, 1), loc=2, borderaxespad=0.)\n",
    "    g.set(xlabel='')\n",
    "    plt.show()\n",
    "    "
   ]
  },
  {
   "cell_type": "code",
   "execution_count": 3,
   "metadata": {},
   "outputs": [],
   "source": [
    "augmented = ['SF1', 'SF2', 'SF3', 'SF4', 'SF5', 'SF6', 'SF7', 'SF8', 'SF11', 'SF12', 'SF13', 'SF14', 'SF15', \n",
    "            'SF16', 'SF17', 'SF19', 'SF21', 'SF22', 'SF23', 'SF24']\n",
    "#controls = ['CF1', 'CF2', 'CF4', 'CF5', 'CF6', 'CF7', 'CF8', 'CF9', 'CF10', 'CF11', 'CF12']\n",
    "sessions = ['pre', 'post']"
   ]
  },
  {
   "cell_type": "markdown",
   "metadata": {},
   "source": [
    "### 1. Get mean z-stat from under the masks"
   ]
  },
  {
   "cell_type": "code",
   "execution_count": 4,
   "metadata": {},
   "outputs": [
    {
     "name": "stdout",
     "output_type": "stream",
     "text": [
      "LH\n",
      "RH\n",
      "BF\n"
     ]
    }
   ],
   "source": [
    "temp = []\n",
    "allTemp = []\n",
    "\n",
    "masks = ['LH200mask_highres', 'RH200mask_highres', 'BF200mask_highres']\n",
    "stat = ['11', '12', '13', '14']\n",
    "# 11: Feet\n",
    "# 12: Lips\n",
    "# 13: RHand\n",
    "# 14: LHand\n",
    "\n",
    "for m in masks:\n",
    "    print(m.split('200')[0])\n",
    "    for ses in sessions:\n",
    "        for subj in augmented:\n",
    "            for con in stat:\n",
    "                mask = nib.load('../{}/masks/{}.nii.gz'.format(subj,m)).get_fdata()\n",
    "                data = nib.load('../{}/{}/model/all-runs-highres.gfeat/cope{}.feat/stats/zstat1.nii.gz'.format(subj,ses,con)).get_fdata()\n",
    "                zstat = data[mask > 0.3].mean()\n",
    "                temp.append(zstat)\n",
    "            allTemp.append([subj, ses, m.split('200')[0]] + temp)\n",
    "            temp = []\n",
    "            \n",
    "ROI = pd.DataFrame(allTemp)\n",
    "ROI = ROI.set_axis(['SUBJ', 'SESS', 'MASK', 'Feet', 'Lips', 'RHand', 'LHand'], axis='columns', inplace=False)\n"
   ]
  },
  {
   "cell_type": "code",
   "execution_count": 23,
   "metadata": {},
   "outputs": [
    {
     "data": {
      "text/html": [
       "<div>\n",
       "<style scoped>\n",
       "    .dataframe tbody tr th:only-of-type {\n",
       "        vertical-align: middle;\n",
       "    }\n",
       "\n",
       "    .dataframe tbody tr th {\n",
       "        vertical-align: top;\n",
       "    }\n",
       "\n",
       "    .dataframe thead th {\n",
       "        text-align: right;\n",
       "    }\n",
       "</style>\n",
       "<table border=\"1\" class=\"dataframe\">\n",
       "  <thead>\n",
       "    <tr style=\"text-align: right;\">\n",
       "      <th></th>\n",
       "      <th>SUBJ</th>\n",
       "      <th>SESS</th>\n",
       "      <th>MASK</th>\n",
       "      <th>BODY_PART</th>\n",
       "      <th>ZSTAT</th>\n",
       "    </tr>\n",
       "  </thead>\n",
       "  <tbody>\n",
       "    <tr>\n",
       "      <th>0</th>\n",
       "      <td>SF1</td>\n",
       "      <td>pre</td>\n",
       "      <td>LH</td>\n",
       "      <td>Feet</td>\n",
       "      <td>-2.078110</td>\n",
       "    </tr>\n",
       "    <tr>\n",
       "      <th>1</th>\n",
       "      <td>SF2</td>\n",
       "      <td>pre</td>\n",
       "      <td>LH</td>\n",
       "      <td>Feet</td>\n",
       "      <td>1.856376</td>\n",
       "    </tr>\n",
       "    <tr>\n",
       "      <th>2</th>\n",
       "      <td>SF3</td>\n",
       "      <td>pre</td>\n",
       "      <td>LH</td>\n",
       "      <td>Feet</td>\n",
       "      <td>-0.151168</td>\n",
       "    </tr>\n",
       "    <tr>\n",
       "      <th>3</th>\n",
       "      <td>SF4</td>\n",
       "      <td>pre</td>\n",
       "      <td>LH</td>\n",
       "      <td>Feet</td>\n",
       "      <td>-1.078075</td>\n",
       "    </tr>\n",
       "    <tr>\n",
       "      <th>4</th>\n",
       "      <td>SF5</td>\n",
       "      <td>pre</td>\n",
       "      <td>LH</td>\n",
       "      <td>Feet</td>\n",
       "      <td>1.732775</td>\n",
       "    </tr>\n",
       "    <tr>\n",
       "      <th>5</th>\n",
       "      <td>SF6</td>\n",
       "      <td>pre</td>\n",
       "      <td>LH</td>\n",
       "      <td>Feet</td>\n",
       "      <td>-1.831696</td>\n",
       "    </tr>\n",
       "    <tr>\n",
       "      <th>6</th>\n",
       "      <td>SF7</td>\n",
       "      <td>pre</td>\n",
       "      <td>LH</td>\n",
       "      <td>Feet</td>\n",
       "      <td>-1.394652</td>\n",
       "    </tr>\n",
       "    <tr>\n",
       "      <th>7</th>\n",
       "      <td>SF8</td>\n",
       "      <td>pre</td>\n",
       "      <td>LH</td>\n",
       "      <td>Feet</td>\n",
       "      <td>-0.606911</td>\n",
       "    </tr>\n",
       "    <tr>\n",
       "      <th>8</th>\n",
       "      <td>SF11</td>\n",
       "      <td>pre</td>\n",
       "      <td>LH</td>\n",
       "      <td>Feet</td>\n",
       "      <td>1.964776</td>\n",
       "    </tr>\n",
       "    <tr>\n",
       "      <th>9</th>\n",
       "      <td>SF12</td>\n",
       "      <td>pre</td>\n",
       "      <td>LH</td>\n",
       "      <td>Feet</td>\n",
       "      <td>0.381869</td>\n",
       "    </tr>\n",
       "  </tbody>\n",
       "</table>\n",
       "</div>"
      ],
      "text/plain": [
       "   SUBJ SESS MASK BODY_PART     ZSTAT\n",
       "0   SF1  pre   LH      Feet -2.078110\n",
       "1   SF2  pre   LH      Feet  1.856376\n",
       "2   SF3  pre   LH      Feet -0.151168\n",
       "3   SF4  pre   LH      Feet -1.078075\n",
       "4   SF5  pre   LH      Feet  1.732775\n",
       "5   SF6  pre   LH      Feet -1.831696\n",
       "6   SF7  pre   LH      Feet -1.394652\n",
       "7   SF8  pre   LH      Feet -0.606911\n",
       "8  SF11  pre   LH      Feet  1.964776\n",
       "9  SF12  pre   LH      Feet  0.381869"
      ]
     },
     "execution_count": 23,
     "metadata": {},
     "output_type": "execute_result"
    }
   ],
   "source": [
    "ROI = ROI.melt(id_vars=['SUBJ', 'SESS', 'MASK'],\n",
    "                  value_vars=['Feet', 'Lips', 'RHand', 'LHand'],\n",
    "                  var_name='BODY_PART', value_name='ZSTAT')\n",
    "ROI.head(10)"
   ]
  },
  {
   "cell_type": "markdown",
   "metadata": {},
   "source": [
    "### 2. Plots"
   ]
  },
  {
   "cell_type": "code",
   "execution_count": 22,
   "metadata": {},
   "outputs": [
    {
     "data": {
      "image/png": "[encoded data removed]",
      "text/plain": [
       "<Figure size 605.36x504 with 1 Axes>"
      ]
     },
     "metadata": {},
     "output_type": "display_data"
    }
   ],
   "source": [
    "plotUniStats(ROI, 'LH')"
   ]
  },
  {
   "cell_type": "code",
   "execution_count": 23,
   "metadata": {},
   "outputs": [
    {
     "data": {
      "image/png": "[encoded data removed]",
      "text/plain": [
       "<Figure size 605.36x504 with 1 Axes>"
      ]
     },
     "metadata": {},
     "output_type": "display_data"
    }
   ],
   "source": [
    "plotUniStats(ROI, 'RH')"
   ]
  },
  {
   "cell_type": "code",
   "execution_count": 6,
   "metadata": {},
   "outputs": [
    {
     "data": {
      "image/png": "[encoded data removed]",
      "text/plain": [
       "<Figure size 605.36x504 with 1 Axes>"
      ]
     },
     "metadata": {},
     "output_type": "display_data"
    }
   ],
   "source": [
    "plotUniStats(ROI, 'BF')"
   ]
  },
  {
   "cell_type": "code",
   "execution_count": 7,
   "metadata": {},
   "outputs": [],
   "source": [
    "ROI.to_csv('func-univariate.csv')"
   ]
  },
  {
   "cell_type": "markdown",
   "metadata": {},
   "source": [
    "### 3. Stats"
   ]
  },
  {
   "cell_type": "code",
   "execution_count": 22,
   "metadata": {},
   "outputs": [],
   "source": [
    "ROI = pd.read_csv('func-univariate.csv')"
   ]
  },
  {
   "cell_type": "code",
   "execution_count": 24,
   "metadata": {},
   "outputs": [],
   "source": [
    "# Check for outliers\n",
    "ROI['outlier'] = ROI.groupby(['SESS', 'MASK', 'BODY_PART'])['ZSTAT'].apply(lambda x: (x - x.mean()) > 3 * x.std())"
   ]
  },
  {
   "cell_type": "code",
   "execution_count": 25,
   "metadata": {},
   "outputs": [
    {
     "data": {
      "text/plain": [
       "0"
      ]
     },
     "execution_count": 25,
     "metadata": {},
     "output_type": "execute_result"
    }
   ],
   "source": [
    "ROI['outlier'].sum()"
   ]
  },
  {
   "cell_type": "code",
   "execution_count": 26,
   "metadata": {},
   "outputs": [
    {
     "data": {
      "text/plain": [
       "SESS  MASK  BODY_PART\n",
       "post  BF    Feet         0.988431\n",
       "            LHand        0.470299\n",
       "            Lips         0.339325\n",
       "            RHand        0.249408\n",
       "      LH    Feet         0.441781\n",
       "            LHand        0.791285\n",
       "            Lips         0.872859\n",
       "            RHand        0.811083\n",
       "      RH    Feet         0.647183\n",
       "            LHand        0.073690\n",
       "            Lips         0.588697\n",
       "            RHand        0.442021\n",
       "pre   BF    Feet         0.982565\n",
       "            LHand        0.519074\n",
       "            Lips         0.584783\n",
       "            RHand        0.803152\n",
       "      LH    Feet         0.553476\n",
       "            LHand        0.316177\n",
       "            Lips         0.824511\n",
       "            RHand        0.133631\n",
       "      RH    Feet         0.323072\n",
       "            LHand        0.082075\n",
       "            Lips         0.825506\n",
       "            RHand        0.256103\n",
       "Name: ZSTAT, dtype: float64"
      ]
     },
     "execution_count": 26,
     "metadata": {},
     "output_type": "execute_result"
    }
   ],
   "source": [
    "# Check normality\n",
    "ROI.groupby(['SESS', 'MASK', 'BODY_PART'])['ZSTAT'].apply(lambda x: stats.shapiro(x)[1])"
   ]
  },
  {
   "cell_type": "markdown",
   "metadata": {},
   "source": [
    "#### 4. Hand specific activity pre vs post\n",
    "\n",
    "We used a univariate approach to interrogate activity levels within the (independently localised) cortical territory of the biological hands. "
   ]
  },
  {
   "cell_type": "code",
   "execution_count": 27,
   "metadata": {},
   "outputs": [
    {
     "data": {
      "text/html": [
       "<div>\n",
       "<style scoped>\n",
       "    .dataframe tbody tr th:only-of-type {\n",
       "        vertical-align: middle;\n",
       "    }\n",
       "\n",
       "    .dataframe tbody tr th {\n",
       "        vertical-align: top;\n",
       "    }\n",
       "\n",
       "    .dataframe thead th {\n",
       "        text-align: right;\n",
       "    }\n",
       "</style>\n",
       "<table border=\"1\" class=\"dataframe\">\n",
       "  <thead>\n",
       "    <tr style=\"text-align: right;\">\n",
       "      <th></th>\n",
       "      <th>SUBJ</th>\n",
       "      <th>SESS</th>\n",
       "      <th>MASK</th>\n",
       "      <th>BODY_PART</th>\n",
       "      <th>ZSTAT</th>\n",
       "      <th>outlier</th>\n",
       "    </tr>\n",
       "  </thead>\n",
       "  <tbody>\n",
       "    <tr>\n",
       "      <th>280</th>\n",
       "      <td>SF1</td>\n",
       "      <td>pre</td>\n",
       "      <td>RH</td>\n",
       "      <td>RHand</td>\n",
       "      <td>9.958282</td>\n",
       "      <td>False</td>\n",
       "    </tr>\n",
       "    <tr>\n",
       "      <th>281</th>\n",
       "      <td>SF2</td>\n",
       "      <td>pre</td>\n",
       "      <td>RH</td>\n",
       "      <td>RHand</td>\n",
       "      <td>16.872334</td>\n",
       "      <td>False</td>\n",
       "    </tr>\n",
       "    <tr>\n",
       "      <th>282</th>\n",
       "      <td>SF3</td>\n",
       "      <td>pre</td>\n",
       "      <td>RH</td>\n",
       "      <td>RHand</td>\n",
       "      <td>8.426405</td>\n",
       "      <td>False</td>\n",
       "    </tr>\n",
       "    <tr>\n",
       "      <th>283</th>\n",
       "      <td>SF4</td>\n",
       "      <td>pre</td>\n",
       "      <td>RH</td>\n",
       "      <td>RHand</td>\n",
       "      <td>11.361041</td>\n",
       "      <td>False</td>\n",
       "    </tr>\n",
       "    <tr>\n",
       "      <th>284</th>\n",
       "      <td>SF5</td>\n",
       "      <td>pre</td>\n",
       "      <td>RH</td>\n",
       "      <td>RHand</td>\n",
       "      <td>8.975019</td>\n",
       "      <td>False</td>\n",
       "    </tr>\n",
       "    <tr>\n",
       "      <th>...</th>\n",
       "      <td>...</td>\n",
       "      <td>...</td>\n",
       "      <td>...</td>\n",
       "      <td>...</td>\n",
       "      <td>...</td>\n",
       "      <td>...</td>\n",
       "    </tr>\n",
       "    <tr>\n",
       "      <th>395</th>\n",
       "      <td>SF19</td>\n",
       "      <td>post</td>\n",
       "      <td>LH</td>\n",
       "      <td>LHand</td>\n",
       "      <td>21.314975</td>\n",
       "      <td>False</td>\n",
       "    </tr>\n",
       "    <tr>\n",
       "      <th>396</th>\n",
       "      <td>SF21</td>\n",
       "      <td>post</td>\n",
       "      <td>LH</td>\n",
       "      <td>LHand</td>\n",
       "      <td>17.717506</td>\n",
       "      <td>False</td>\n",
       "    </tr>\n",
       "    <tr>\n",
       "      <th>397</th>\n",
       "      <td>SF22</td>\n",
       "      <td>post</td>\n",
       "      <td>LH</td>\n",
       "      <td>LHand</td>\n",
       "      <td>17.856974</td>\n",
       "      <td>False</td>\n",
       "    </tr>\n",
       "    <tr>\n",
       "      <th>398</th>\n",
       "      <td>SF23</td>\n",
       "      <td>post</td>\n",
       "      <td>LH</td>\n",
       "      <td>LHand</td>\n",
       "      <td>6.568783</td>\n",
       "      <td>False</td>\n",
       "    </tr>\n",
       "    <tr>\n",
       "      <th>399</th>\n",
       "      <td>SF24</td>\n",
       "      <td>post</td>\n",
       "      <td>LH</td>\n",
       "      <td>LHand</td>\n",
       "      <td>9.539009</td>\n",
       "      <td>False</td>\n",
       "    </tr>\n",
       "  </tbody>\n",
       "</table>\n",
       "<p>80 rows × 6 columns</p>\n",
       "</div>"
      ],
      "text/plain": [
       "     SUBJ  SESS MASK BODY_PART      ZSTAT  outlier\n",
       "280   SF1   pre   RH     RHand   9.958282    False\n",
       "281   SF2   pre   RH     RHand  16.872334    False\n",
       "282   SF3   pre   RH     RHand   8.426405    False\n",
       "283   SF4   pre   RH     RHand  11.361041    False\n",
       "284   SF5   pre   RH     RHand   8.975019    False\n",
       "..    ...   ...  ...       ...        ...      ...\n",
       "395  SF19  post   LH     LHand  21.314975    False\n",
       "396  SF21  post   LH     LHand  17.717506    False\n",
       "397  SF22  post   LH     LHand  17.856974    False\n",
       "398  SF23  post   LH     LHand   6.568783    False\n",
       "399  SF24  post   LH     LHand   9.539009    False\n",
       "\n",
       "[80 rows x 6 columns]"
      ]
     },
     "execution_count": 27,
     "metadata": {},
     "output_type": "execute_result"
    }
   ],
   "source": [
    "handStats = ROI.query('(BODY_PART == \"RHand\" and MASK == \"RH\") or (BODY_PART == \"LHand\" and MASK == \"LH\")')\n",
    "handStats"
   ]
  },
  {
   "cell_type": "code",
   "execution_count": 28,
   "metadata": {},
   "outputs": [],
   "source": [
    "%%R\n",
    "\n",
    "library(lme4)\n",
    "library(optimx)\n",
    "library(afex)\n",
    "library(\"rstatix\")\n",
    "library(emmeans)"
   ]
  },
  {
   "cell_type": "code",
   "execution_count": 30,
   "metadata": {},
   "outputs": [
    {
     "name": "stdout",
     "output_type": "stream",
     "text": [
      "Anova Table (Type 3 tests)\n",
      "\n",
      "Response: ZSTAT\n",
      "     Effect    df  MSE       F  ges p.value\n",
      "1      SESS 1, 19 8.98  6.44 *  .04     .02\n",
      "2      MASK 1, 19 4.85 9.17 **  .03    .007\n",
      "3 SESS:MASK 1, 19 1.37    1.95 .002     .18\n",
      "---\n",
      "Signif. codes:  0 ‘***’ 0.001 ‘**’ 0.01 ‘*’ 0.05 ‘+’ 0.1 ‘ ’ 1\n"
     ]
    }
   ],
   "source": [
    "%%R -i handStats\n",
    "\n",
    "anovaModelRM <- aov_car(ZSTAT ~ MASK * SESS + Error(SUBJ/SESS*MASK), data=handStats)\n",
    "anovaModelRM"
   ]
  },
  {
   "cell_type": "markdown",
   "metadata": {},
   "source": [
    "#### 4. Feet activity in augmented hand territory\n",
    "\n",
    "We used a univariate approach to examine feet-specific activity within the augmented hand territory."
   ]
  },
  {
   "cell_type": "code",
   "execution_count": 35,
   "metadata": {},
   "outputs": [
    {
     "data": {
      "text/plain": [
       "Ttest_relResult(statistic=-0.47083307229832705, pvalue=0.6431203845727969)"
      ]
     },
     "execution_count": 35,
     "metadata": {},
     "output_type": "execute_result"
    }
   ],
   "source": [
    "stats.ttest_rel(np.array(ROI.query('MASK == \"RH\" and BODY_PART == \"Feet\" and SESS == \"pre\"')['ZSTAT']), \n",
    "                np.array(ROI.query('MASK == \"RH\" and BODY_PART == \"Feet\" and SESS == \"post\"')['ZSTAT']))\n"
   ]
  },
  {
   "cell_type": "markdown",
   "metadata": {},
   "source": [
    "#### 5. Augmented hand activity in feet teritory"
   ]
  },
  {
   "cell_type": "code",
   "execution_count": 39,
   "metadata": {},
   "outputs": [
    {
     "data": {
      "text/plain": [
       "Ttest_relResult(statistic=1.589587172678317, pvalue=0.12842964295651374)"
      ]
     },
     "execution_count": 39,
     "metadata": {},
     "output_type": "execute_result"
    }
   ],
   "source": [
    "stats.ttest_rel(np.array(ROI.query('MASK == \"BF\" and BODY_PART == \"RHand\" and SESS == \"pre\"')['ZSTAT']), \n",
    "                np.array(ROI.query('MASK == \"BF\" and BODY_PART == \"RHand\" and SESS == \"post\"')['ZSTAT']))"
   ]
  },
  {
   "cell_type": "code",
   "execution_count": 42,
   "metadata": {},
   "outputs": [
    {
     "name": "stdout",
     "output_type": "stream",
     "text": [
      "Anova Table (Type 3 tests)\n",
      "\n",
      "Response: ZSTAT\n",
      "          Effect    df  MSE      F  ges p.value\n",
      "1           SESS 1, 19 1.90 4.58 *  .07     .05\n",
      "2      BODY_PART 1, 19 0.28 4.47 *  .01     .05\n",
      "3 SESS:BODY_PART 1, 19 0.24   1.84 .004     .19\n",
      "---\n",
      "Signif. codes:  0 ‘***’ 0.001 ‘**’ 0.01 ‘*’ 0.05 ‘+’ 0.1 ‘ ’ 1\n"
     ]
    }
   ],
   "source": [
    "%%R -i ROI\n",
    "\n",
    "anovaModelRM <- aov_car(ZSTAT ~ BODY_PART * SESS + Error(SUBJ/SESS*BODY_PART), \n",
    "                        data=subset(ROI, MASK == 'BF' & (BODY_PART == 'RHand' | BODY_PART == 'LHand')))\n",
    "anovaModelRM"
   ]
  },
  {
   "cell_type": "code",
   "execution_count": null,
   "metadata": {},
   "outputs": [],
   "source": []
  }
 ],
 "metadata": {
  "kernelspec": {
   "display_name": "Python 3",
   "language": "python",
   "name": "python3"
  },
  "language_info": {
   "codemirror_mode": {
    "name": "ipython",
    "version": 3
   },
   "file_extension": ".py",
   "mimetype": "text/x-python",
   "name": "python",
   "nbconvert_exporter": "python",
   "pygments_lexer": "ipython3",
   "version": "3.9.6"
  },
  "widgets": {
   "application/vnd.jupyter.widget-state+json": {
    "state": {},
    "version_major": 2,
    "version_minor": 0
   }
  }
 },
 "nbformat": 4,
 "nbformat_minor": 4
}
