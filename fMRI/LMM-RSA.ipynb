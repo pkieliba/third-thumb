{
 "cells": [
  {
   "cell_type": "code",
   "execution_count": 2,
   "id": "decdbbdd",
   "metadata": {},
   "outputs": [],
   "source": [
    "# Load required packages\n",
    "library(\"lme4\")\n",
    "library(\"car\")\n",
    "library(\"stargazer\")\n",
    "library(\"afex\")\n",
    "library(\"emmeans\")\n"
   ]
  },
  {
   "cell_type": "code",
   "execution_count": 3,
   "id": "b81e5c69",
   "metadata": {},
   "outputs": [
    {
     "data": {
      "text/html": [
       "<table>\n",
       "<thead><tr><th scope=col>dist</th><th scope=col>hand</th><th scope=col>time</th><th scope=col>fingPair</th><th scope=col>participant</th><th scope=col>group</th></tr></thead>\n",
       "<tbody>\n",
       "\t<tr><td>0.307717</td><td>1       </td><td>1       </td><td>1       </td><td>1       </td><td>AUG     </td></tr>\n",
       "\t<tr><td>0.404401</td><td>1       </td><td>1       </td><td>2       </td><td>1       </td><td>AUG     </td></tr>\n",
       "\t<tr><td>0.514116</td><td>1       </td><td>1       </td><td>3       </td><td>1       </td><td>AUG     </td></tr>\n",
       "\t<tr><td>0.499114</td><td>1       </td><td>1       </td><td>4       </td><td>1       </td><td>AUG     </td></tr>\n",
       "\t<tr><td>0.180315</td><td>1       </td><td>1       </td><td>5       </td><td>1       </td><td>AUG     </td></tr>\n",
       "\t<tr><td>0.420522</td><td>1       </td><td>1       </td><td>6       </td><td>1       </td><td>AUG     </td></tr>\n",
       "</tbody>\n",
       "</table>\n"
      ],
      "text/latex": [
       "\\begin{tabular}{r|llllll}\n",
       " dist & hand & time & fingPair & participant & group\\\\\n",
       "\\hline\n",
       "\t 0.307717 & 1        & 1        & 1        & 1        & AUG     \\\\\n",
       "\t 0.404401 & 1        & 1        & 2        & 1        & AUG     \\\\\n",
       "\t 0.514116 & 1        & 1        & 3        & 1        & AUG     \\\\\n",
       "\t 0.499114 & 1        & 1        & 4        & 1        & AUG     \\\\\n",
       "\t 0.180315 & 1        & 1        & 5        & 1        & AUG     \\\\\n",
       "\t 0.420522 & 1        & 1        & 6        & 1        & AUG     \\\\\n",
       "\\end{tabular}\n"
      ],
      "text/markdown": [
       "\n",
       "| dist | hand | time | fingPair | participant | group |\n",
       "|---|---|---|---|---|---|\n",
       "| 0.307717 | 1        | 1        | 1        | 1        | AUG      |\n",
       "| 0.404401 | 1        | 1        | 2        | 1        | AUG      |\n",
       "| 0.514116 | 1        | 1        | 3        | 1        | AUG      |\n",
       "| 0.499114 | 1        | 1        | 4        | 1        | AUG      |\n",
       "| 0.180315 | 1        | 1        | 5        | 1        | AUG      |\n",
       "| 0.420522 | 1        | 1        | 6        | 1        | AUG      |\n",
       "\n"
      ],
      "text/plain": [
       "  dist     hand time fingPair participant group\n",
       "1 0.307717 1    1    1        1           AUG  \n",
       "2 0.404401 1    1    2        1           AUG  \n",
       "3 0.514116 1    1    3        1           AUG  \n",
       "4 0.499114 1    1    4        1           AUG  \n",
       "5 0.180315 1    1    5        1           AUG  \n",
       "6 0.420522 1    1    6        1           AUG  "
      ]
     },
     "metadata": {},
     "output_type": "display_data"
    }
   ],
   "source": [
    "# Load data of augmented participants\n",
    "augData <- read.csv(\"HandRep_RSA_Augmented.csv\")\n",
    "head(augData)"
   ]
  },
  {
   "cell_type": "code",
   "execution_count": 4,
   "id": "b1095c3f",
   "metadata": {},
   "outputs": [
    {
     "data": {
      "text/html": [
       "<table>\n",
       "<thead><tr><th scope=col>dist</th><th scope=col>hand</th><th scope=col>time</th><th scope=col>fingPair</th><th scope=col>participant</th><th scope=col>group</th><th scope=col>pairCat</th><th scope=col>groupCat</th><th scope=col>handCat</th><th scope=col>time0</th></tr></thead>\n",
       "<tbody>\n",
       "\t<tr><td>0.307717</td><td>1       </td><td>1       </td><td>1       </td><td>1       </td><td>AUG     </td><td>1       </td><td>AUG     </td><td>1       </td><td>0       </td></tr>\n",
       "\t<tr><td>0.404401</td><td>1       </td><td>1       </td><td>2       </td><td>1       </td><td>AUG     </td><td>2       </td><td>AUG     </td><td>1       </td><td>0       </td></tr>\n",
       "\t<tr><td>0.514116</td><td>1       </td><td>1       </td><td>3       </td><td>1       </td><td>AUG     </td><td>3       </td><td>AUG     </td><td>1       </td><td>0       </td></tr>\n",
       "\t<tr><td>0.499114</td><td>1       </td><td>1       </td><td>4       </td><td>1       </td><td>AUG     </td><td>4       </td><td>AUG     </td><td>1       </td><td>0       </td></tr>\n",
       "\t<tr><td>0.180315</td><td>1       </td><td>1       </td><td>5       </td><td>1       </td><td>AUG     </td><td>5       </td><td>AUG     </td><td>1       </td><td>0       </td></tr>\n",
       "\t<tr><td>0.420522</td><td>1       </td><td>1       </td><td>6       </td><td>1       </td><td>AUG     </td><td>6       </td><td>AUG     </td><td>1       </td><td>0       </td></tr>\n",
       "</tbody>\n",
       "</table>\n"
      ],
      "text/latex": [
       "\\begin{tabular}{r|llllllllll}\n",
       " dist & hand & time & fingPair & participant & group & pairCat & groupCat & handCat & time0\\\\\n",
       "\\hline\n",
       "\t 0.307717 & 1        & 1        & 1        & 1        & AUG      & 1        & AUG      & 1        & 0       \\\\\n",
       "\t 0.404401 & 1        & 1        & 2        & 1        & AUG      & 2        & AUG      & 1        & 0       \\\\\n",
       "\t 0.514116 & 1        & 1        & 3        & 1        & AUG      & 3        & AUG      & 1        & 0       \\\\\n",
       "\t 0.499114 & 1        & 1        & 4        & 1        & AUG      & 4        & AUG      & 1        & 0       \\\\\n",
       "\t 0.180315 & 1        & 1        & 5        & 1        & AUG      & 5        & AUG      & 1        & 0       \\\\\n",
       "\t 0.420522 & 1        & 1        & 6        & 1        & AUG      & 6        & AUG      & 1        & 0       \\\\\n",
       "\\end{tabular}\n"
      ],
      "text/markdown": [
       "\n",
       "| dist | hand | time | fingPair | participant | group | pairCat | groupCat | handCat | time0 |\n",
       "|---|---|---|---|---|---|---|---|---|---|\n",
       "| 0.307717 | 1        | 1        | 1        | 1        | AUG      | 1        | AUG      | 1        | 0        |\n",
       "| 0.404401 | 1        | 1        | 2        | 1        | AUG      | 2        | AUG      | 1        | 0        |\n",
       "| 0.514116 | 1        | 1        | 3        | 1        | AUG      | 3        | AUG      | 1        | 0        |\n",
       "| 0.499114 | 1        | 1        | 4        | 1        | AUG      | 4        | AUG      | 1        | 0        |\n",
       "| 0.180315 | 1        | 1        | 5        | 1        | AUG      | 5        | AUG      | 1        | 0        |\n",
       "| 0.420522 | 1        | 1        | 6        | 1        | AUG      | 6        | AUG      | 1        | 0        |\n",
       "\n"
      ],
      "text/plain": [
       "  dist     hand time fingPair participant group pairCat groupCat handCat time0\n",
       "1 0.307717 1    1    1        1           AUG   1       AUG      1       0    \n",
       "2 0.404401 1    1    2        1           AUG   2       AUG      1       0    \n",
       "3 0.514116 1    1    3        1           AUG   3       AUG      1       0    \n",
       "4 0.499114 1    1    4        1           AUG   4       AUG      1       0    \n",
       "5 0.180315 1    1    5        1           AUG   5       AUG      1       0    \n",
       "6 0.420522 1    1    6        1           AUG   6       AUG      1       0    "
      ]
     },
     "metadata": {},
     "output_type": "display_data"
    }
   ],
   "source": [
    "# Treat fingerPair, hand and group as categorical variables\n",
    "augData$pairCat <- as.character(augData$fingPair)\n",
    "augData$groupCat <- as.character(augData$group)\n",
    "augData$handCat <- as.character(augData$hand)\n",
    "# Center the time variable\n",
    "augData$time0 <- augData$time-1\n",
    "head(augData)"
   ]
  },
  {
   "cell_type": "code",
   "execution_count": 15,
   "id": "1a074f49",
   "metadata": {},
   "outputs": [
    {
     "name": "stderr",
     "output_type": "stream",
     "text": [
      "Contrasts set to contr.sum for the following variables: pairCat, handCat\n",
      "Numerical variables NOT centered on 0: time0\n",
      "If in interactions, interpretation of lower order (e.g., main) effects difficult.\n"
     ]
    },
    {
     "name": "stdout",
     "output_type": "stream",
     "text": [
      "Fitting one lmer() model. [DONE]\n",
      "Calculating p-values. [DONE]\n"
     ]
    },
    {
     "data": {
      "text/plain": [
       "Mixed Model Anova Table (Type 3 tests, S-method)\n",
       "\n",
       "Model: dist ~ time0 * pairCat * handCat + (time0 | participant)\n",
       "Data: subset\n",
       "Data: augData\n",
       "Data: time != 3\n",
       "                 Effect        df          F p.value\n",
       "1                 time0  1, 19.00       1.15     .30\n",
       "2               pairCat 9, 722.00 158.32 ***  <.0001\n",
       "3               handCat 1, 722.00       0.10     .75\n",
       "4         time0:pairCat 9, 722.00       0.51     .87\n",
       "5         time0:handCat 1, 722.00  12.89 ***   .0004\n",
       "6       pairCat:handCat 9, 722.00       1.52     .14\n",
       "7 time0:pairCat:handCat 9, 722.00       0.69     .72\n",
       "---\n",
       "Signif. codes:  0 ‘***’ 0.001 ‘**’ 0.01 ‘*’ 0.05 ‘+’ 0.1 ‘ ’ 1"
      ]
     },
     "metadata": {},
     "output_type": "display_data"
    }
   ],
   "source": [
    "# Pre - post model (aug)\n",
    "modelAug <- mixed(dist ~ time0*pairCat*handCat + (time0|participant), subset(augData, time!=3), method=\"S\", REML=TRUE, control=lmerControl(optCtrl = list(maxfun = 1e6)))\n",
    "modelAug"
   ]
  },
  {
   "cell_type": "code",
   "execution_count": 6,
   "id": "6d804905",
   "metadata": {},
   "outputs": [
    {
     "data": {
      "text/html": [
       "<table>\n",
       "<thead><tr><th scope=col>dist</th><th scope=col>fingPair</th><th scope=col>time</th><th scope=col>hand</th><th scope=col>participant</th><th scope=col>group</th></tr></thead>\n",
       "<tbody>\n",
       "\t<tr><td>0.3418123</td><td>1        </td><td>1        </td><td>1        </td><td>101      </td><td>CTR      </td></tr>\n",
       "\t<tr><td>0.4341538</td><td>2        </td><td>1        </td><td>1        </td><td>101      </td><td>CTR      </td></tr>\n",
       "\t<tr><td>0.5010757</td><td>3        </td><td>1        </td><td>1        </td><td>101      </td><td>CTR      </td></tr>\n",
       "\t<tr><td>0.4965191</td><td>4        </td><td>1        </td><td>1        </td><td>101      </td><td>CTR      </td></tr>\n",
       "\t<tr><td>0.2723874</td><td>5        </td><td>1        </td><td>1        </td><td>101      </td><td>CTR      </td></tr>\n",
       "\t<tr><td>0.4010293</td><td>6        </td><td>1        </td><td>1        </td><td>101      </td><td>CTR      </td></tr>\n",
       "</tbody>\n",
       "</table>\n"
      ],
      "text/latex": [
       "\\begin{tabular}{r|llllll}\n",
       " dist & fingPair & time & hand & participant & group\\\\\n",
       "\\hline\n",
       "\t 0.3418123 & 1         & 1         & 1         & 101       & CTR      \\\\\n",
       "\t 0.4341538 & 2         & 1         & 1         & 101       & CTR      \\\\\n",
       "\t 0.5010757 & 3         & 1         & 1         & 101       & CTR      \\\\\n",
       "\t 0.4965191 & 4         & 1         & 1         & 101       & CTR      \\\\\n",
       "\t 0.2723874 & 5         & 1         & 1         & 101       & CTR      \\\\\n",
       "\t 0.4010293 & 6         & 1         & 1         & 101       & CTR      \\\\\n",
       "\\end{tabular}\n"
      ],
      "text/markdown": [
       "\n",
       "| dist | fingPair | time | hand | participant | group |\n",
       "|---|---|---|---|---|---|\n",
       "| 0.3418123 | 1         | 1         | 1         | 101       | CTR       |\n",
       "| 0.4341538 | 2         | 1         | 1         | 101       | CTR       |\n",
       "| 0.5010757 | 3         | 1         | 1         | 101       | CTR       |\n",
       "| 0.4965191 | 4         | 1         | 1         | 101       | CTR       |\n",
       "| 0.2723874 | 5         | 1         | 1         | 101       | CTR       |\n",
       "| 0.4010293 | 6         | 1         | 1         | 101       | CTR       |\n",
       "\n"
      ],
      "text/plain": [
       "  dist      fingPair time hand participant group\n",
       "1 0.3418123 1        1    1    101         CTR  \n",
       "2 0.4341538 2        1    1    101         CTR  \n",
       "3 0.5010757 3        1    1    101         CTR  \n",
       "4 0.4965191 4        1    1    101         CTR  \n",
       "5 0.2723874 5        1    1    101         CTR  \n",
       "6 0.4010293 6        1    1    101         CTR  "
      ]
     },
     "metadata": {},
     "output_type": "display_data"
    }
   ],
   "source": [
    "# Load data of control participants\n",
    "ctrData <- read.csv(\"HandRep_RSA_Controls.csv\")\n",
    "head(ctrData)"
   ]
  },
  {
   "cell_type": "code",
   "execution_count": 8,
   "id": "f6de6468",
   "metadata": {},
   "outputs": [
    {
     "data": {
      "text/html": [
       "<table>\n",
       "<thead><tr><th scope=col>dist</th><th scope=col>fingPair</th><th scope=col>time</th><th scope=col>hand</th><th scope=col>participant</th><th scope=col>group</th><th scope=col>pairCat</th><th scope=col>groupCat</th><th scope=col>handCat</th><th scope=col>time0</th></tr></thead>\n",
       "<tbody>\n",
       "\t<tr><td>0.3418123</td><td>1        </td><td>1        </td><td>1        </td><td>101      </td><td>CTR      </td><td>1        </td><td>CTR      </td><td>1        </td><td>0        </td></tr>\n",
       "\t<tr><td>0.4341538</td><td>2        </td><td>1        </td><td>1        </td><td>101      </td><td>CTR      </td><td>2        </td><td>CTR      </td><td>1        </td><td>0        </td></tr>\n",
       "\t<tr><td>0.5010757</td><td>3        </td><td>1        </td><td>1        </td><td>101      </td><td>CTR      </td><td>3        </td><td>CTR      </td><td>1        </td><td>0        </td></tr>\n",
       "\t<tr><td>0.4965191</td><td>4        </td><td>1        </td><td>1        </td><td>101      </td><td>CTR      </td><td>4        </td><td>CTR      </td><td>1        </td><td>0        </td></tr>\n",
       "\t<tr><td>0.2723874</td><td>5        </td><td>1        </td><td>1        </td><td>101      </td><td>CTR      </td><td>5        </td><td>CTR      </td><td>1        </td><td>0        </td></tr>\n",
       "\t<tr><td>0.4010293</td><td>6        </td><td>1        </td><td>1        </td><td>101      </td><td>CTR      </td><td>6        </td><td>CTR      </td><td>1        </td><td>0        </td></tr>\n",
       "</tbody>\n",
       "</table>\n"
      ],
      "text/latex": [
       "\\begin{tabular}{r|llllllllll}\n",
       " dist & fingPair & time & hand & participant & group & pairCat & groupCat & handCat & time0\\\\\n",
       "\\hline\n",
       "\t 0.3418123 & 1         & 1         & 1         & 101       & CTR       & 1         & CTR       & 1         & 0        \\\\\n",
       "\t 0.4341538 & 2         & 1         & 1         & 101       & CTR       & 2         & CTR       & 1         & 0        \\\\\n",
       "\t 0.5010757 & 3         & 1         & 1         & 101       & CTR       & 3         & CTR       & 1         & 0        \\\\\n",
       "\t 0.4965191 & 4         & 1         & 1         & 101       & CTR       & 4         & CTR       & 1         & 0        \\\\\n",
       "\t 0.2723874 & 5         & 1         & 1         & 101       & CTR       & 5         & CTR       & 1         & 0        \\\\\n",
       "\t 0.4010293 & 6         & 1         & 1         & 101       & CTR       & 6         & CTR       & 1         & 0        \\\\\n",
       "\\end{tabular}\n"
      ],
      "text/markdown": [
       "\n",
       "| dist | fingPair | time | hand | participant | group | pairCat | groupCat | handCat | time0 |\n",
       "|---|---|---|---|---|---|---|---|---|---|\n",
       "| 0.3418123 | 1         | 1         | 1         | 101       | CTR       | 1         | CTR       | 1         | 0         |\n",
       "| 0.4341538 | 2         | 1         | 1         | 101       | CTR       | 2         | CTR       | 1         | 0         |\n",
       "| 0.5010757 | 3         | 1         | 1         | 101       | CTR       | 3         | CTR       | 1         | 0         |\n",
       "| 0.4965191 | 4         | 1         | 1         | 101       | CTR       | 4         | CTR       | 1         | 0         |\n",
       "| 0.2723874 | 5         | 1         | 1         | 101       | CTR       | 5         | CTR       | 1         | 0         |\n",
       "| 0.4010293 | 6         | 1         | 1         | 101       | CTR       | 6         | CTR       | 1         | 0         |\n",
       "\n"
      ],
      "text/plain": [
       "  dist      fingPair time hand participant group pairCat groupCat handCat time0\n",
       "1 0.3418123 1        1    1    101         CTR   1       CTR      1       0    \n",
       "2 0.4341538 2        1    1    101         CTR   2       CTR      1       0    \n",
       "3 0.5010757 3        1    1    101         CTR   3       CTR      1       0    \n",
       "4 0.4965191 4        1    1    101         CTR   4       CTR      1       0    \n",
       "5 0.2723874 5        1    1    101         CTR   5       CTR      1       0    \n",
       "6 0.4010293 6        1    1    101         CTR   6       CTR      1       0    "
      ]
     },
     "metadata": {},
     "output_type": "display_data"
    }
   ],
   "source": [
    "# Treat fingerPair, hand and group as categorical variables\n",
    "ctrData$pairCat <- as.character(ctrData$fingPair)\n",
    "ctrData$groupCat <- as.character(ctrData$group)\n",
    "ctrData$handCat <- as.character(ctrData$hand)\n",
    "# Center the time variable\n",
    "ctrData$time0 <- ctrData$time-1\n",
    "head(ctrData)"
   ]
  },
  {
   "cell_type": "code",
   "execution_count": 9,
   "id": "9740f25d",
   "metadata": {},
   "outputs": [
    {
     "data": {
      "text/html": [
       "<table>\n",
       "<thead><tr><th scope=col>dist</th><th scope=col>hand</th><th scope=col>time</th><th scope=col>fingPair</th><th scope=col>participant</th><th scope=col>group</th><th scope=col>pairCat</th><th scope=col>groupCat</th><th scope=col>handCat</th><th scope=col>time0</th></tr></thead>\n",
       "<tbody>\n",
       "\t<tr><td>0.307717</td><td>1       </td><td>1       </td><td>1       </td><td>1       </td><td>AUG     </td><td>1       </td><td>AUG     </td><td>1       </td><td>0       </td></tr>\n",
       "\t<tr><td>0.404401</td><td>1       </td><td>1       </td><td>2       </td><td>1       </td><td>AUG     </td><td>2       </td><td>AUG     </td><td>1       </td><td>0       </td></tr>\n",
       "\t<tr><td>0.514116</td><td>1       </td><td>1       </td><td>3       </td><td>1       </td><td>AUG     </td><td>3       </td><td>AUG     </td><td>1       </td><td>0       </td></tr>\n",
       "\t<tr><td>0.499114</td><td>1       </td><td>1       </td><td>4       </td><td>1       </td><td>AUG     </td><td>4       </td><td>AUG     </td><td>1       </td><td>0       </td></tr>\n",
       "\t<tr><td>0.180315</td><td>1       </td><td>1       </td><td>5       </td><td>1       </td><td>AUG     </td><td>5       </td><td>AUG     </td><td>1       </td><td>0       </td></tr>\n",
       "\t<tr><td>0.420522</td><td>1       </td><td>1       </td><td>6       </td><td>1       </td><td>AUG     </td><td>6       </td><td>AUG     </td><td>1       </td><td>0       </td></tr>\n",
       "</tbody>\n",
       "</table>\n"
      ],
      "text/latex": [
       "\\begin{tabular}{r|llllllllll}\n",
       " dist & hand & time & fingPair & participant & group & pairCat & groupCat & handCat & time0\\\\\n",
       "\\hline\n",
       "\t 0.307717 & 1        & 1        & 1        & 1        & AUG      & 1        & AUG      & 1        & 0       \\\\\n",
       "\t 0.404401 & 1        & 1        & 2        & 1        & AUG      & 2        & AUG      & 1        & 0       \\\\\n",
       "\t 0.514116 & 1        & 1        & 3        & 1        & AUG      & 3        & AUG      & 1        & 0       \\\\\n",
       "\t 0.499114 & 1        & 1        & 4        & 1        & AUG      & 4        & AUG      & 1        & 0       \\\\\n",
       "\t 0.180315 & 1        & 1        & 5        & 1        & AUG      & 5        & AUG      & 1        & 0       \\\\\n",
       "\t 0.420522 & 1        & 1        & 6        & 1        & AUG      & 6        & AUG      & 1        & 0       \\\\\n",
       "\\end{tabular}\n"
      ],
      "text/markdown": [
       "\n",
       "| dist | hand | time | fingPair | participant | group | pairCat | groupCat | handCat | time0 |\n",
       "|---|---|---|---|---|---|---|---|---|---|\n",
       "| 0.307717 | 1        | 1        | 1        | 1        | AUG      | 1        | AUG      | 1        | 0        |\n",
       "| 0.404401 | 1        | 1        | 2        | 1        | AUG      | 2        | AUG      | 1        | 0        |\n",
       "| 0.514116 | 1        | 1        | 3        | 1        | AUG      | 3        | AUG      | 1        | 0        |\n",
       "| 0.499114 | 1        | 1        | 4        | 1        | AUG      | 4        | AUG      | 1        | 0        |\n",
       "| 0.180315 | 1        | 1        | 5        | 1        | AUG      | 5        | AUG      | 1        | 0        |\n",
       "| 0.420522 | 1        | 1        | 6        | 1        | AUG      | 6        | AUG      | 1        | 0        |\n",
       "\n"
      ],
      "text/plain": [
       "  dist     hand time fingPair participant group pairCat groupCat handCat time0\n",
       "1 0.307717 1    1    1        1           AUG   1       AUG      1       0    \n",
       "2 0.404401 1    1    2        1           AUG   2       AUG      1       0    \n",
       "3 0.514116 1    1    3        1           AUG   3       AUG      1       0    \n",
       "4 0.499114 1    1    4        1           AUG   4       AUG      1       0    \n",
       "5 0.180315 1    1    5        1           AUG   5       AUG      1       0    \n",
       "6 0.420522 1    1    6        1           AUG   6       AUG      1       0    "
      ]
     },
     "metadata": {},
     "output_type": "display_data"
    }
   ],
   "source": [
    "allData <- rbind(augData, ctrData)\n",
    "head(allData)"
   ]
  },
  {
   "cell_type": "code",
   "execution_count": 16,
   "id": "d1a99141",
   "metadata": {},
   "outputs": [
    {
     "name": "stderr",
     "output_type": "stream",
     "text": [
      "Contrasts set to contr.sum for the following variables: pairCat, handCat, groupCat\n",
      "Numerical variables NOT centered on 0: time0\n",
      "If in interactions, interpretation of lower order (e.g., main) effects difficult.\n"
     ]
    },
    {
     "name": "stdout",
     "output_type": "stream",
     "text": [
      "Fitting one lmer() model. [DONE]\n",
      "Calculating p-values. [DONE]\n"
     ]
    },
    {
     "data": {
      "text/plain": [
       "Mixed Model Anova Table (Type 3 tests, S-method)\n",
       "\n",
       "Model: dist ~ time0 * pairCat * handCat * groupCat + (time0 | participant)\n",
       "Data: subset\n",
       "Data: allData\n",
       "Data: time != 3\n",
       "                           Effect         df          F p.value\n",
       "1                           time0   1, 28.00       0.00     .95\n",
       "2                         pairCat 9, 1064.00 196.52 ***  <.0001\n",
       "3                         handCat 1, 1064.00       1.25     .26\n",
       "4                        groupCat   1, 28.00       2.00     .17\n",
       "5                   time0:pairCat 9, 1064.00       0.65     .75\n",
       "6                   time0:handCat 1, 1064.00    7.65 **    .006\n",
       "7                 pairCat:handCat 9, 1064.00       0.93     .50\n",
       "8                  time0:groupCat   1, 28.00       1.05     .32\n",
       "9                pairCat:groupCat 9, 1064.00       0.79     .63\n",
       "10               handCat:groupCat 1, 1064.00       2.23     .14\n",
       "11          time0:pairCat:handCat 9, 1064.00       0.46     .90\n",
       "12         time0:pairCat:groupCat 9, 1064.00       0.31     .97\n",
       "13         time0:handCat:groupCat 1, 1064.00       2.02     .16\n",
       "14       pairCat:handCat:groupCat 9, 1064.00       1.21     .29\n",
       "15 time0:pairCat:handCat:groupCat 9, 1064.00       0.47     .90\n",
       "---\n",
       "Signif. codes:  0 ‘***’ 0.001 ‘**’ 0.01 ‘*’ 0.05 ‘+’ 0.1 ‘ ’ 1"
      ]
     },
     "metadata": {},
     "output_type": "display_data"
    }
   ],
   "source": [
    "# Pre - post model (aug + ctrl)\n",
    "modelGroup <- mixed(dist ~ time0*pairCat*handCat*groupCat + (time0|participant), subset(allData, time!=3), method=\"S\", REML=TRUE, control=lmerControl(optCtrl = list(maxfun = 1e6)))\n",
    "modelGroup"
   ]
  },
  {
   "cell_type": "code",
   "execution_count": null,
   "id": "e13636ee",
   "metadata": {},
   "outputs": [],
   "source": []
  }
 ],
 "metadata": {
  "kernelspec": {
   "display_name": "R",
   "language": "R",
   "name": "ir"
  },
  "language_info": {
   "codemirror_mode": "r",
   "file_extension": ".r",
   "mimetype": "text/x-r-source",
   "name": "R",
   "pygments_lexer": "r",
   "version": "3.5.2"
  },
  "widgets": {
   "application/vnd.jupyter.widget-state+json": {
    "state": {},
    "version_major": 2,
    "version_minor": 0
   }
  }
 },
 "nbformat": 4,
 "nbformat_minor": 5
}
